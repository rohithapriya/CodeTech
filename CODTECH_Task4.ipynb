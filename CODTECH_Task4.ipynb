{
 "cells": [
  {
   "cell_type": "markdown",
   "id": "5f3ebbc2",
   "metadata": {},
   "source": [
    "# CODTECH Internship Task-4: Optimization Model\n",
    "### 🔍 Problem Statement:\n",
    "A company produces **Product A** and **Product B**.\n",
    "\n",
    "| Product   | Profit (₹) | Machine Hours | Labor Hours |\n",
    "|-----------|------------|----------------|---------------|\n",
    "| A         | 20         | 2              | 1             |\n",
    "| B         | 30         | 1              | 2             |\n",
    "\n",
    "**Available Resources**:\n",
    "- Machine Hours = 100\n",
    "- Labor Hours = 80\n",
    "\n",
    "**Goal**: Maximize profit using linear programming and PuLP in Python."
   ]
  },
  {
   "cell_type": "code",
   "execution_count": null,
   "id": "2a3fc589",
   "metadata": {},
   "outputs": [],
   "source": [
    "!pip install pulp"
   ]
  },
  {
   "cell_type": "code",
   "execution_count": null,
   "id": "ea325b7f",
   "metadata": {},
   "outputs": [],
   "source": [
    "from pulp import *\n",
    "\n",
    "# Define the problem\n",
    "model = LpProblem(\"Maximize_Profit\", LpMaximize)\n",
    "\n",
    "# Variables\n",
    "A = LpVariable(\"Product_A\", lowBound=0, cat='Continuous')\n",
    "B = LpVariable(\"Product_B\", lowBound=0, cat='Continuous')\n",
    "\n",
    "# Objective Function: Maximize profit\n",
    "model += 20 * A + 30 * B, \"Total_Profit\"\n",
    "\n",
    "# Constraints\n",
    "model += 2 * A + 1 * B <= 100, \"Machine_Hours\"\n",
    "model += 1 * A + 2 * B <= 80, \"Labor_Hours\"\n",
    "\n",
    "# Solve the model\n",
    "model.solve()\n",
    "\n",
    "# Display results\n",
    "print(\"Status:\", LpStatus[model.status])\n",
    "print(\"Produce {:.2f} units of Product A\".format(value(A)))\n",
    "print(\"Produce {:.2f} units of Product B\".format(value(B)))\n",
    "print(\"Maximum Profit: ₹{:.2f}\".format(value(model.objective)))"
   ]
  },
  {
   "cell_type": "markdown",
   "id": "7831d1ed",
   "metadata": {},
   "source": [
    "## ✅ Insights:\n",
    "- Based on resource limits, PuLP determined the most profitable production plan.\n",
    "- This basic optimization approach helps maximize business output using limited inputs.\n",
    "- You can apply this to real-world manufacturing, staffing, logistics, and more.\n",
    "\n",
    "Try changing the values (profits, constraints) to model different scenarios!"
   ]
  }
 ],
 "metadata": {},
 "nbformat": 4,
 "nbformat_minor": 5
}